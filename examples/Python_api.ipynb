{
 "cells": [
  {
   "cell_type": "code",
   "execution_count": 1,
   "metadata": {},
   "outputs": [],
   "source": [
    "import talktracker as tt\n",
    "from talktracker import Member, Team, Session"
   ]
  },
  {
   "cell_type": "markdown",
   "metadata": {},
   "source": [
    "## Initialization Examples"
   ]
  },
  {
   "cell_type": "markdown",
   "metadata": {},
   "source": [
    "talktracker's Python API is meant to be very flexible. User can pretty much create Session, Teams, and Members in any intuitive way. <br>\n",
    "Below are some examples of Member, Team and Session initialization."
   ]
  },
  {
   "cell_type": "code",
   "execution_count": 2,
   "metadata": {},
   "outputs": [],
   "source": [
    "msne = Session('MSNE')\n",
    "team = Team('RockStars')\n",
    "member = Member('Nick')\n",
    "\n",
    "team.add_member(member)\n",
    "msne.add_team(team)"
   ]
  },
  {
   "cell_type": "markdown",
   "metadata": {},
   "source": [
    "However, example 1 really boils down to one line"
   ]
  },
  {
   "cell_type": "code",
   "execution_count": 3,
   "metadata": {},
   "outputs": [],
   "source": [
    "msne = Session('MSNE', teams=[Team('RockStars', members=['Nick'])])"
   ]
  },
  {
   "cell_type": "markdown",
   "metadata": {},
   "source": [
    "let's say you want to have more features for a member, including age, country, etc. <br>\n",
    "For this purpose, we take advantage of the Member class, and pass the Member object to the Team initializer instead of the name of the member."
   ]
  },
  {
   "cell_type": "code",
   "execution_count": 4,
   "metadata": {},
   "outputs": [],
   "source": [
    "msne = Session('MSNE', teams=[Team('RockStars', members=[Member('Nick', age=30, country='USA')])])"
   ]
  },
  {
   "cell_type": "markdown",
   "metadata": {},
   "source": [
    "More members?"
   ]
  },
  {
   "cell_type": "code",
   "execution_count": 5,
   "metadata": {},
   "outputs": [],
   "source": [
    "msne = Session('MSNE', teams=[Team('RockStars', \n",
    "                                   members=[Member('Nick', age=30, country='USA'),\n",
    "                                            Member('Aleks', age=24, country='Poland'),\n",
    "                                            Member('Raja', age=27, country='Jordan'),\n",
    "                                            Member('James', age=26, country='USA')])])"
   ]
  },
  {
   "cell_type": "code",
   "execution_count": 6,
   "metadata": {},
   "outputs": [
    {
     "data": {
      "text/plain": [
       "['Nick', 'Aleks', 'Raja', 'James']"
      ]
     },
     "execution_count": 6,
     "metadata": {},
     "output_type": "execute_result"
    }
   ],
   "source": [
    "msne.RockStars.members"
   ]
  },
  {
   "cell_type": "code",
   "execution_count": 7,
   "metadata": {},
   "outputs": [
    {
     "data": {
      "text/plain": [
       "'USA'"
      ]
     },
     "execution_count": 7,
     "metadata": {},
     "output_type": "execute_result"
    }
   ],
   "source": [
    "msne.RockStars.James.country"
   ]
  },
  {
   "cell_type": "markdown",
   "metadata": {},
   "source": [
    "More teams?"
   ]
  },
  {
   "cell_type": "code",
   "execution_count": 8,
   "metadata": {},
   "outputs": [],
   "source": [
    "msne = Session('MSNE', teams=[Team('RockStars', \n",
    "                                   members=[Member('Nick', age=30, country='USA'),\n",
    "                                            Member('Aleks', age=24, country='Poland'),\n",
    "                                            Member('Raja', age=27, country='Jordan'),\n",
    "                                            Member('James', age=26, country='USA')]),\n",
    "                              Team('ShadowWalkers', \n",
    "                                   members=[Member('Michael', age=24, country='Germany'),\n",
    "                                            Member('yagmur', age=22, country='Turkey'),\n",
    "                                            Member('Janne', age=24, country='Germany'),\n",
    "                                            Member('Christoph', age=26, country='Germany')]),\n",
    "                              Team('Huxlaysians', \n",
    "                                   members=[Member('Nicholas', age=25, country='Germany'),\n",
    "                                            Member('Francisco', age=24, country='Argentina'),\n",
    "                                            Member('Abdallah', age=25, country='Jordan'),\n",
    "                                            Member('Mohamad', age=29, country='Afghanistan')]),\n",
    "                              Team('Newrons', \n",
    "                                   members=[Member('Auguste', age=24, country='Germany'),\n",
    "                                            Member('Jonas', age=24, country='Germany'),\n",
    "                                            Member('Steffen', age=24, country='Germany'),\n",
    "                                            Member('Elisa', age=24, country='Italy')])])"
   ]
  },
  {
   "cell_type": "code",
   "execution_count": 9,
   "metadata": {},
   "outputs": [
    {
     "data": {
      "text/plain": [
       "['RockStars', 'ShadowWalkers', 'Huxlaysians', 'Newrons']"
      ]
     },
     "execution_count": 9,
     "metadata": {},
     "output_type": "execute_result"
    }
   ],
   "source": [
    "msne.teams"
   ]
  },
  {
   "cell_type": "code",
   "execution_count": 10,
   "metadata": {},
   "outputs": [
    {
     "data": {
      "text/plain": [
       "['Nick', 'Aleks', 'Raja', 'James']"
      ]
     },
     "execution_count": 10,
     "metadata": {},
     "output_type": "execute_result"
    }
   ],
   "source": [
    "msne[msne.teams[0]].members"
   ]
  },
  {
   "cell_type": "code",
   "execution_count": 11,
   "metadata": {},
   "outputs": [],
   "source": [
    "msne[msne.teams[0]]['Nick'].start()"
   ]
  },
  {
   "cell_type": "code",
   "execution_count": 12,
   "metadata": {},
   "outputs": [],
   "source": [
    "msne[msne.teams[0]]['Nick'].end()"
   ]
  },
  {
   "cell_type": "code",
   "execution_count": 13,
   "metadata": {},
   "outputs": [
    {
     "data": {
      "text/plain": [
       "[(0, 0, 1)]"
      ]
     },
     "execution_count": 13,
     "metadata": {},
     "output_type": "execute_result"
    }
   ],
   "source": [
    "msne[msne.teams[0]]['Nick'].intervals"
   ]
  },
  {
   "cell_type": "code",
   "execution_count": 14,
   "metadata": {},
   "outputs": [
    {
     "data": {
      "text/plain": [
       "(0, 0, 1)"
      ]
     },
     "execution_count": 14,
     "metadata": {},
     "output_type": "execute_result"
    }
   ],
   "source": [
    "msne[msne.teams[0]].total_time"
   ]
  },
  {
   "cell_type": "markdown",
   "metadata": {},
   "source": [
    "---"
   ]
  },
  {
   "cell_type": "markdown",
   "metadata": {},
   "source": [
    "## Analysis Examples"
   ]
  },
  {
   "cell_type": "markdown",
   "metadata": {},
   "source": [
    "talktracker provides a handy fake data generator that enables the user try their extra analysis/visualization methods. So le's use it:"
   ]
  },
  {
   "cell_type": "code",
   "execution_count": 19,
   "metadata": {},
   "outputs": [],
   "source": [
    "fake_session = tt.analysis.gen_fake_data(teams_n=4, members_n=[3,5,4,2])"
   ]
  },
  {
   "cell_type": "code",
   "execution_count": 20,
   "metadata": {},
   "outputs": [
    {
     "data": {
      "text/plain": [
       "['Newrons', 'RockStars', 'Persians', 'Golabies']"
      ]
     },
     "execution_count": 20,
     "metadata": {},
     "output_type": "execute_result"
    }
   ],
   "source": [
    "fake_session.teams"
   ]
  },
  {
   "cell_type": "code",
   "execution_count": 22,
   "metadata": {},
   "outputs": [
    {
     "name": "stdout",
     "output_type": "stream",
     "text": [
      "Newrons : ['Werner', 'Atena', 'James']\n",
      "RockStars : ['Nick', 'Arman', 'Florian', 'Ehsan', 'Michael']\n",
      "Persians : ['Shahab', 'Darya', 'Auguste', 'Rasoul']\n",
      "Golabies : ['Yagmur', 'Fati']\n"
     ]
    }
   ],
   "source": [
    "for team in fake_session.teams:\n",
    "    print(team, ':', fake_session[team].members)"
   ]
  },
  {
   "cell_type": "code",
   "execution_count": null,
   "metadata": {},
   "outputs": [],
   "source": []
  }
 ],
 "metadata": {
  "kernelspec": {
   "display_name": "Python 3",
   "language": "python",
   "name": "python3"
  },
  "language_info": {
   "codemirror_mode": {
    "name": "ipython",
    "version": 3
   },
   "file_extension": ".py",
   "mimetype": "text/x-python",
   "name": "python",
   "nbconvert_exporter": "python",
   "pygments_lexer": "ipython3",
   "version": "3.6.6"
  }
 },
 "nbformat": 4,
 "nbformat_minor": 2
}
